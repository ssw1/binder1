{
 "cells": [
  {
   "cell_type": "code",
   "execution_count": null,
   "metadata": {},
   "outputs": [],
   "source": [
    "import matplotlib.pyplot as plt\n",
    "%matplotlib inline\n",
    "\n",
    "plt.rcParams['figure.dpi'] = 20\n",
    "\n",
    "class Visual(object):\n",
    "    def __init__(self):\n",
    "        self.ip = None\n",
    "        \n",
    "    def imshow(self, im):  \n",
    "        from IPython import display\n",
    "        if self.ip is None:\n",
    "            self.ip = plt.imshow(im, interpolation='none') \n",
    "        else:\n",
    "            self.ip.set_data(im)\n",
    "            plt.show()#plt.gcf())\n",
    "    # turn off the axis labels\n",
    "    plt.pause(0.01)\n",
    "\n",
    "def show_table(q):\n",
    "    from IPython.display import HTML\n",
    "    display(HTML(q.to_html()))\n",
    "\n",
    "vis = Visual()"
   ]
  },
  {
   "cell_type": "code",
   "execution_count": null,
   "metadata": {},
   "outputs": [],
   "source": [
    "\n",
    "from main_loop import run_example\n",
    "\n",
    "grid = (4, 3)\n",
    "episodes=20\n",
    "run_example(grid, episodes, vis=vis)\n"
   ]
  }
 ],
 "metadata": {
  "kernelspec": {
   "display_name": "Python 3",
   "language": "python",
   "name": "python3"
  },
  "language_info": {
   "codemirror_mode": {
    "name": "ipython",
    "version": 3
   },
   "file_extension": ".py",
   "mimetype": "text/x-python",
   "name": "python",
   "nbconvert_exporter": "python",
   "pygments_lexer": "ipython3",
   "version": "3.7.10"
  }
 },
 "nbformat": 4,
 "nbformat_minor": 2
}
