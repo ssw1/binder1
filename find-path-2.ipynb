{
 "cells": [
  {
   "cell_type": "code",
   "execution_count": null,
   "metadata": {},
   "outputs": [],
   "source": [
    "import matplotlib\n",
    "%matplotlib inline\n",
    "import matplotlib.pyplot as plt\n",
    "\n",
    "plt.rcParams['figure.dpi'] = 30\n",
    "\n",
    "class Visual(object):\n",
    "    def __init__(self):\n",
    "        self.ip = None\n",
    "        \n",
    "    def imshow(self, im):  \n",
    "        from IPython import display\n",
    "        if self.ip is None:\n",
    "            self.ip = plt.imshow(im, interpolation='none') \n",
    "        else:\n",
    "            self.ip.set_data(im)\n",
    "            plt.show(im)#plt.gcf())\n",
    "    plt.pause(0.001)\n",
    "\n",
    "vis = Visual()"
   ]
  },
  {
   "cell_type": "code",
   "execution_count": null,
   "metadata": {},
   "outputs": [],
   "source": [
    "%matplotlib notebook\n",
    "import matplotlib.pyplot as plt\n",
    "import matplotlib.animation\n",
    "import numpy as np\n",
    "\n",
    "def makeim():\n",
    "    return np.random.random((8, 8, 3), )\n",
    "    \n",
    "fig, ax = plt.subplots()\n",
    "l = ax.imshow(makeim())\n",
    "    \n",
    "def anime(l):\n",
    "    print(3)\n",
    "    import time\n",
    "    time.sleep(.5)\n",
    "    l.set_data(makeim())\n",
    "    \n",
    "animate = lambda i: l.set_data(makeim())\n",
    "\n",
    "ani = matplotlib.animation.FuncAnimation(fig, animate)#, frames=4)\n",
    "\n",
    "plt.show()"
   ]
  },
  {
   "cell_type": "code",
   "execution_count": null,
   "metadata": {},
   "outputs": [],
   "source": [
    "\n",
    "from main_loop import run_example\n",
    "\n",
    "grid = (4, 3)\n",
    "episodes=20\n",
    "run_example(grid, episodes, vis=vis)\n"
   ]
  },
  {
   "cell_type": "code",
   "execution_count": null,
   "metadata": {},
   "outputs": [],
   "source": []
  }
 ],
 "metadata": {
  "kernelspec": {
   "display_name": "Python 3",
   "language": "python",
   "name": "python3"
  },
  "language_info": {
   "codemirror_mode": {
    "name": "ipython",
    "version": 3
   },
   "file_extension": ".py",
   "mimetype": "text/x-python",
   "name": "python",
   "nbconvert_exporter": "python",
   "pygments_lexer": "ipython3",
   "version": "3.7.10"
  }
 },
 "nbformat": 4,
 "nbformat_minor": 2
}
