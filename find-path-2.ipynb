

from main import run_example

grid = (7, 9)
episodes=20
run_example(grid, episodes, vis=vis)
