{
 "cells": [
  {
   "cell_type": "code",
   "execution_count": null,
   "metadata": {},
   "outputs": [],
   "source": [
    "import matplotlib\n",
    "%matplotlib notebook\n",
    "import matplotlib.pyplot as plt\n",
    "from IPython import display\n",
    "\n",
    "class Visual(object):\n",
    "\n",
    "    def __init__(self):\n",
    "        self.cells = []\n",
    "        self.rows = None\n",
    "        self.cols = None\n",
    "        self.agent = None\n",
    "\n",
    "    def imshow(self, board):\n",
    "        #plt.ion()\n",
    "\n",
    "        size = 1000\n",
    "\n",
    "        if self.rows is None:\n",
    "            self.rows = board.env_height\n",
    "            self.cols = board.env_width\n",
    "            self.fig = plt.figure(1)\n",
    "            self.fig.set_figheight(self.rows)\n",
    "            self.fig.set_figwidth(self.cols)\n",
    "            self.fig.patch.set_facecolor('#dddddd')\n",
    "            self.ax = self.fig.add_subplot(1, 1, 1)\n",
    "            self.ax.set_facecolor('#dddddd')\n",
    "            self.fig.patch.set_visible(False)\n",
    "            self.ax.axis('off')\n",
    "            y = []\n",
    "            x = []\n",
    "            for i in range(self.rows):\n",
    "                for j in range(self.cols):\n",
    "                    x.append(j)\n",
    "                    y.append(i)\n",
    "            self.ax.scatter(x, y, marker=\"s\", s=size, c='#dddddd')\n",
    "            self.ax.scatter(board.goal[1], board.goal[0], marker=\"D\", s=size//2, c='green')\n",
    "            self.ax.scatter(-1, -1, marker=\"s\", s=size, c='white')\n",
    "            self.ax.scatter(board.env_width, board.env_height, marker=\"s\", s=size, c='white')\n",
    "            for x in board.obstacles:\n",
    "                self.ax.scatter(x[1], x[0], marker=\"s\", s=size, c='blue')\n",
    "            assert board.agent is None\n",
    "            assert self.agent is None\n",
    "            return\n",
    "\n",
    "        if board.agent:\n",
    "            self.agent = self.ax.scatter([0], [0], marker=\"o\", c='red', s=size)\n",
    "            if self.agent is None:\n",
    "                self.agent = self.ax.scatter([0], [0], marker=\"o\", c='red', s=size)\n",
    "            else:\n",
    "                self.agent.set_offsets(list(reversed(board.agent.state)))\n",
    "        self.fig.canvas.draw()\n",
    "        plt.pause(.001)\n",
    "        return\n",
    "\n"
   ]
  },
  {
   "cell_type": "code",
   "execution_count": null,
   "metadata": {},
   "outputs": [],
   "source": [
    "\n",
    "from main_loop import run_example\n",
    "\n",
    "vis = Visual()\n",
    "grid = (4, 3)\n",
    "episodes=20\n",
    "run_example(grid, episodes, vis=vis)\n"
   ]
  },
  {
   "cell_type": "code",
   "execution_count": null,
   "metadata": {},
   "outputs": [],
   "source": []
  },
  {
   "cell_type": "code",
   "execution_count": null,
   "metadata": {},
   "outputs": [],
   "source": []
  }
 ],
 "metadata": {
  "kernelspec": {
   "display_name": "Python 3",
   "language": "python",
   "name": "python3"
  },
  "language_info": {
   "codemirror_mode": {
    "name": "ipython",
    "version": 3
   },
   "file_extension": ".py",
   "mimetype": "text/x-python",
   "name": "python",
   "nbconvert_exporter": "python",
   "pygments_lexer": "ipython3",
   "version": "3.7.10"
  }
 },
 "nbformat": 4,
 "nbformat_minor": 2
}
